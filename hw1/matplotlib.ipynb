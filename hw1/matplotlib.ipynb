{
 "cells": [
  {
   "cell_type": "code",
   "execution_count": 1,
   "metadata": {},
   "outputs": [],
   "source": [
    "import matplotlib.pyplot as plt \n",
    "import numpy as np  "
   ]
  },
  {
   "cell_type": "code",
   "execution_count": 2,
   "metadata": {},
   "outputs": [
    {
     "data": {
      "text/plain": [
       "<matplotlib.figure.Figure at 0x10aef9940>"
      ]
     },
     "execution_count": 2,
     "metadata": {},
     "output_type": "execute_result"
    }
   ],
   "source": [
    "plt.figure()"
   ]
  },
  {
   "cell_type": "code",
   "execution_count": 3,
   "metadata": {},
   "outputs": [
    {
     "data": {
      "text/plain": [
       "[<matplotlib.lines.Line2D at 0x118cdd7b8>]"
      ]
     },
     "execution_count": 3,
     "metadata": {},
     "output_type": "execute_result"
    }
   ],
   "source": [
    "plt.plot(np.array([4,6,3,10,7]))"
   ]
  },
  {
   "cell_type": "code",
   "execution_count": 4,
   "metadata": {},
   "outputs": [
    {
     "data": {
      "text/plain": [
       "Text(0.5,0,'input parameter (seconds)')"
      ]
     },
     "execution_count": 4,
     "metadata": {},
     "output_type": "execute_result"
    }
   ],
   "source": [
    "plt.xlabel(\"input parameter (seconds)\")"
   ]
  },
  {
   "cell_type": "code",
   "execution_count": 5,
   "metadata": {},
   "outputs": [
    {
     "data": {
      "image/png": "[encoded data removed]",
      "text/plain": [
       "<matplotlib.figure.Figure at 0x10aef9940>"
      ]
     },
     "metadata": {},
     "output_type": "display_data"
    }
   ],
   "source": [
    "plt.show()"
   ]
  },
  {
   "cell_type": "code",
   "execution_count": null,
   "metadata": {},
   "outputs": [],
   "source": []
  },
  {
   "cell_type": "code",
   "execution_count": 6,
   "metadata": {},
   "outputs": [],
   "source": [
    "x = [1,2,3,4,5]"
   ]
  },
  {
   "cell_type": "code",
   "execution_count": 7,
   "metadata": {},
   "outputs": [],
   "source": [
    "y = [7,2,3,5.5,1]"
   ]
  },
  {
   "cell_type": "code",
   "execution_count": 8,
   "metadata": {},
   "outputs": [
    {
     "data": {
      "text/plain": [
       "([<matplotlib.axis.XTick at 0x118dd75f8>,\n",
       "  <matplotlib.axis.XTick at 0x118995320>,\n",
       "  <matplotlib.axis.XTick at 0x118dccd30>,\n",
       "  <matplotlib.axis.XTick at 0x118dfb940>,\n",
       "  <matplotlib.axis.XTick at 0x118dfbf98>],\n",
       " <a list of 5 Text xticklabel objects>)"
      ]
     },
     "execution_count": 8,
     "metadata": {},
     "output_type": "execute_result"
    }
   ],
   "source": [
    "plt.xticks(x,[\"b1\",\"b2\",\"b3\",\"b4\",\"b5\"],rotation=-60)"
   ]
  },
  {
   "cell_type": "code",
   "execution_count": 9,
   "metadata": {},
   "outputs": [],
   "source": [
    "plt.grid(True)"
   ]
  },
  {
   "cell_type": "code",
   "execution_count": 12,
   "metadata": {},
   "outputs": [
    {
     "data": {
      "text/plain": [
       "<Container object of 5 artists>"
      ]
     },
     "execution_count": 12,
     "metadata": {},
     "output_type": "execute_result"
    }
   ],
   "source": [
    "plt.bar(x,y,align='center')"
   ]
  },
  {
   "cell_type": "code",
   "execution_count": 13,
   "metadata": {},
   "outputs": [
    {
     "data": {
      "image/png": "[encoded data removed]",
      "text/plain": [
       "<matplotlib.figure.Figure at 0x118dcf198>"
      ]
     },
     "metadata": {},
     "output_type": "display_data"
    }
   ],
   "source": [
    "plt.show()"
   ]
  },
  {
   "cell_type": "code",
   "execution_count": null,
   "metadata": {},
   "outputs": [],
   "source": []
  },
  {
   "cell_type": "code",
   "execution_count": 14,
   "metadata": {},
   "outputs": [],
   "source": [
    "a = np.random.uniform(1,10,7) "
   ]
  },
  {
   "cell_type": "code",
   "execution_count": 15,
   "metadata": {},
   "outputs": [
    {
     "name": "stdout",
     "output_type": "stream",
     "text": [
      "[2.45087934 5.52294635 1.21966772 8.3796918  1.10972002 6.08098626\n",
      " 7.96381512]\n"
     ]
    }
   ],
   "source": [
    "print(a)"
   ]
  },
  {
   "cell_type": "code",
   "execution_count": 16,
   "metadata": {},
   "outputs": [],
   "source": [
    "L = [\"b1\", \"b2\", \"b3\", \"b4\", \"b5\", \"b6\", \"b7\"] "
   ]
  },
  {
   "cell_type": "code",
   "execution_count": 17,
   "metadata": {},
   "outputs": [
    {
     "data": {
      "text/plain": [
       "([<matplotlib.patches.Wedge at 0x118fa6908>,\n",
       "  <matplotlib.patches.Wedge at 0x118fa6dd8>,\n",
       "  <matplotlib.patches.Wedge at 0x118fae358>,\n",
       "  <matplotlib.patches.Wedge at 0x118fae898>,\n",
       "  <matplotlib.patches.Wedge at 0x118faedd8>,\n",
       "  <matplotlib.patches.Wedge at 0x118fb8358>,\n",
       "  <matplotlib.patches.Wedge at 0x118fb8898>],\n",
       " [Text(1.0697,0.25641,'b1'),\n",
       "  Text(0.593697,0.926026,'b2'),\n",
       "  Text(-0.0847547,1.09673,'b3'),\n",
       "  Text(-0.924777,0.59564,'b4'),\n",
       "  Text(-1.03751,-0.365483,'b5'),\n",
       "  Text(-0.567295,-0.942431,'b6'),\n",
       "  Text(0.793931,-0.761363,'b7')])"
      ]
     },
     "execution_count": 17,
     "metadata": {},
     "output_type": "execute_result"
    }
   ],
   "source": [
    "plt.pie(a,labels = L)"
   ]
  },
  {
   "cell_type": "code",
   "execution_count": 18,
   "metadata": {},
   "outputs": [
    {
     "data": {
      "text/plain": [
       "Text(0.5,1,'A pie chart')"
      ]
     },
     "execution_count": 18,
     "metadata": {},
     "output_type": "execute_result"
    }
   ],
   "source": [
    "plt.title(\"A pie chart\")"
   ]
  },
  {
   "cell_type": "code",
   "execution_count": 19,
   "metadata": {},
   "outputs": [
    {
     "data": {
      "image/png": "[encoded data removed]",
      "text/plain": [
       "<matplotlib.figure.Figure at 0x118e48748>"
      ]
     },
     "metadata": {},
     "output_type": "display_data"
    }
   ],
   "source": [
    "plt.show()"
   ]
  },
  {
   "cell_type": "code",
   "execution_count": null,
   "metadata": {},
   "outputs": [],
   "source": []
  },
  {
   "cell_type": "code",
   "execution_count": 20,
   "metadata": {},
   "outputs": [],
   "source": [
    "x = np.random.uniform(0,0.1,1000) "
   ]
  },
  {
   "cell_type": "code",
   "execution_count": 21,
   "metadata": {},
   "outputs": [
    {
     "data": {
      "text/plain": [
       "(array([13., 11.,  6., 10., 10.,  8.,  9., 18.,  5.,  7., 13., 11.,  9.,\n",
       "         8.,  9., 12., 15., 19.,  6., 10.,  7.,  8.,  9.,  9.,  9., 11.,\n",
       "        10., 18.,  7., 13.,  8., 12.,  9.,  9.,  9., 10., 13., 10.,  8.,\n",
       "        16.,  9., 10., 13., 10.,  3., 11.,  8., 20.,  5., 10.,  7., 11.,\n",
       "         7.,  8.,  9.,  9., 12.,  7.,  8.,  9.,  9.,  9., 10., 12.,  9.,\n",
       "        10., 10.,  8.,  8., 12., 10.,  8., 11.,  9., 11., 11.,  8., 13.,\n",
       "         9., 11., 17.,  8., 13., 12., 11., 13., 11.,  5.,  8., 12., 11.,\n",
       "        13.,  6.,  7.,  9.,  8.,  9., 11.,  7., 11.]),\n",
       " array([3.26821499e-05, 1.03185764e-03, 2.03103313e-03, 3.03020862e-03,\n",
       "        4.02938411e-03, 5.02855959e-03, 6.02773508e-03, 7.02691057e-03,\n",
       "        8.02608606e-03, 9.02526155e-03, 1.00244370e-02, 1.10236125e-02,\n",
       "        1.20227880e-02, 1.30219635e-02, 1.40211390e-02, 1.50203145e-02,\n",
       "        1.60194900e-02, 1.70186655e-02, 1.80178410e-02, 1.90170164e-02,\n",
       "        2.00161919e-02, 2.10153674e-02, 2.20145429e-02, 2.30137184e-02,\n",
       "        2.40128939e-02, 2.50120694e-02, 2.60112449e-02, 2.70104204e-02,\n",
       "        2.80095958e-02, 2.90087713e-02, 3.00079468e-02, 3.10071223e-02,\n",
       "        3.20062978e-02, 3.30054733e-02, 3.40046488e-02, 3.50038243e-02,\n",
       "        3.60029998e-02, 3.70021752e-02, 3.80013507e-02, 3.90005262e-02,\n",
       "        3.99997017e-02, 4.09988772e-02, 4.19980527e-02, 4.29972282e-02,\n",
       "        4.39964037e-02, 4.49955792e-02, 4.59947546e-02, 4.69939301e-02,\n",
       "        4.79931056e-02, 4.89922811e-02, 4.99914566e-02, 5.09906321e-02,\n",
       "        5.19898076e-02, 5.29889831e-02, 5.39881586e-02, 5.49873340e-02,\n",
       "        5.59865095e-02, 5.69856850e-02, 5.79848605e-02, 5.89840360e-02,\n",
       "        5.99832115e-02, 6.09823870e-02, 6.19815625e-02, 6.29807380e-02,\n",
       "        6.39799134e-02, 6.49790889e-02, 6.59782644e-02, 6.69774399e-02,\n",
       "        6.79766154e-02, 6.89757909e-02, 6.99749664e-02, 7.09741419e-02,\n",
       "        7.19733174e-02, 7.29724928e-02, 7.39716683e-02, 7.49708438e-02,\n",
       "        7.59700193e-02, 7.69691948e-02, 7.79683703e-02, 7.89675458e-02,\n",
       "        7.99667213e-02, 8.09658968e-02, 8.19650722e-02, 8.29642477e-02,\n",
       "        8.39634232e-02, 8.49625987e-02, 8.59617742e-02, 8.69609497e-02,\n",
       "        8.79601252e-02, 8.89593007e-02, 8.99584762e-02, 9.09576516e-02,\n",
       "        9.19568271e-02, 9.29560026e-02, 9.39551781e-02, 9.49543536e-02,\n",
       "        9.59535291e-02, 9.69527046e-02, 9.79518801e-02, 9.89510556e-02,\n",
       "        9.99502310e-02]),\n",
       " <a list of 100 Patch objects>)"
      ]
     },
     "execution_count": 21,
     "metadata": {},
     "output_type": "execute_result"
    }
   ],
   "source": [
    "plt.hist(x,100)"
   ]
  },
  {
   "cell_type": "code",
   "execution_count": 22,
   "metadata": {},
   "outputs": [
    {
     "data": {
      "image/png": "[encoded data removed]",
      "text/plain": [
       "<matplotlib.figure.Figure at 0x118f18128>"
      ]
     },
     "metadata": {},
     "output_type": "display_data"
    }
   ],
   "source": [
    "plt.show()"
   ]
  },
  {
   "cell_type": "code",
   "execution_count": null,
   "metadata": {},
   "outputs": [],
   "source": []
  },
  {
   "cell_type": "code",
   "execution_count": 23,
   "metadata": {},
   "outputs": [],
   "source": [
    "x = np.random.uniform(1,100,50)"
   ]
  },
  {
   "cell_type": "code",
   "execution_count": 24,
   "metadata": {},
   "outputs": [],
   "source": [
    "y = np.random.normal(20, 10, 50)"
   ]
  },
  {
   "cell_type": "code",
   "execution_count": 25,
   "metadata": {},
   "outputs": [
    {
     "data": {
      "text/plain": [
       "<matplotlib.collections.PathCollection at 0x1191ab630>"
      ]
     },
     "execution_count": 25,
     "metadata": {},
     "output_type": "execute_result"
    }
   ],
   "source": [
    "plt.scatter(x,y)"
   ]
  },
  {
   "cell_type": "code",
   "execution_count": 26,
   "metadata": {},
   "outputs": [
    {
     "data": {
      "image/png": "[encoded data removed]",
      "text/plain": [
       "<matplotlib.figure.Figure at 0x11916f438>"
      ]
     },
     "metadata": {},
     "output_type": "display_data"
    }
   ],
   "source": [
    "plt.show()"
   ]
  },
  {
   "cell_type": "code",
   "execution_count": null,
   "metadata": {},
   "outputs": [],
   "source": []
  },
  {
   "cell_type": "code",
   "execution_count": 27,
   "metadata": {},
   "outputs": [],
   "source": [
    "x = np.random.uniform(1,100,50)"
   ]
  },
  {
   "cell_type": "code",
   "execution_count": 28,
   "metadata": {},
   "outputs": [
    {
     "name": "stdout",
     "output_type": "stream",
     "text": [
      "[87.81595875 86.82892481 96.52570692 16.36346724 73.35526082 10.80388462\n",
      "  9.13045596 50.23906724 85.44219991 31.77798827 64.93563832 72.9290847\n",
      " 56.32145509 13.69992674 83.16428977 69.54980501 84.10218227 12.67453173\n",
      " 12.04896999 40.01540633 31.03058807  2.74763049 26.22771056 35.7019048\n",
      " 99.45599853  4.55855991 85.39899846 30.45097388 98.62661849 90.99782487\n",
      " 85.27527894 52.45854746  8.52934482 43.22250896 37.47194715 89.09802805\n",
      " 28.71102745 64.34469961 13.74236006 60.51148859 81.37723916 38.34511416\n",
      " 81.77050052 99.58311058  7.29396574 61.76934065  8.39892627 24.08452487\n",
      " 90.17643336 85.69443489]\n"
     ]
    }
   ],
   "source": [
    "print(x)"
   ]
  },
  {
   "cell_type": "code",
   "execution_count": 29,
   "metadata": {},
   "outputs": [
    {
     "data": {
      "text/plain": [
       "{'boxes': [<matplotlib.lines.Line2D at 0x119275ba8>],\n",
       " 'caps': [<matplotlib.lines.Line2D at 0x1192ed5f8>,\n",
       "  <matplotlib.lines.Line2D at 0x1192eda20>],\n",
       " 'fliers': [<matplotlib.lines.Line2D at 0x1192f42b0>],\n",
       " 'means': [],\n",
       " 'medians': [<matplotlib.lines.Line2D at 0x1192ede48>],\n",
       " 'whiskers': [<matplotlib.lines.Line2D at 0x119275cf8>,\n",
       "  <matplotlib.lines.Line2D at 0x1192ed1d0>]}"
      ]
     },
     "execution_count": 29,
     "metadata": {},
     "output_type": "execute_result"
    }
   ],
   "source": [
    "plt.boxplot(x)"
   ]
  },
  {
   "cell_type": "code",
   "execution_count": 30,
   "metadata": {},
   "outputs": [
    {
     "data": {
      "image/png": "[encoded data removed]",
      "text/plain": [
       "<matplotlib.figure.Figure at 0x119152dd8>"
      ]
     },
     "metadata": {},
     "output_type": "display_data"
    }
   ],
   "source": [
    "plt.show()"
   ]
  },
  {
   "cell_type": "code",
   "execution_count": null,
   "metadata": {},
   "outputs": [],
   "source": []
  }
 ],
 "metadata": {
  "kernelspec": {
   "display_name": "Python 3",
   "language": "python",
   "name": "python3"
  },
  "language_info": {
   "codemirror_mode": {
    "name": "ipython",
    "version": 3
   },
   "file_extension": ".py",
   "mimetype": "text/x-python",
   "name": "python",
   "nbconvert_exporter": "python",
   "pygments_lexer": "ipython3",
   "version": "3.6.3"
  }
 },
 "nbformat": 4,
 "nbformat_minor": 1
}
